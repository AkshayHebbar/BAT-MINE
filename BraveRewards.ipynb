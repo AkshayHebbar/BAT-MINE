{
 "cells": [
  {
   "cell_type": "code",
   "execution_count": 1,
   "id": "personalized-regular",
   "metadata": {},
   "outputs": [
    {
     "data": {
      "text/plain": [
       "<os._wrap_close at 0x1fda79ac7b8>"
      ]
     },
     "execution_count": 1,
     "metadata": {},
     "output_type": "execute_result"
    }
   ],
   "source": [
    "# Start a browser instance with custom properties\n",
    "import os\n",
    "\n",
    "#Change Directory to Brave Executable\n",
    "os.chdir(\"C:\\Program Files\\BraveSoftware\\Brave-Browser\\Application\")\n",
    "\n",
    "#Start Brave Browser using custom configuration in a specific location\n",
    "os.popen('brave.exe --remote-debugging-port=2021 --user-data-dir=\"D:\\Selenium\\AutomationProfile\"')"
   ]
  },
  {
   "cell_type": "code",
   "execution_count": 2,
   "id": "democratic-armenia",
   "metadata": {},
   "outputs": [],
   "source": [
    "from selenium import webdriver\n",
    "import time\n",
    "from datetime import datetime\n",
    "\n",
    "#Driver and application path\n",
    "driver_path = \"D:/Technical/Softwares/Technical/ChromeDriver/chromedriver.exe\"\n",
    "brave_path = \"C:/Program Files/BraveSoftware/Brave-Browser/Application/brave.exe\"\n",
    "\n",
    "#Add Optional Arguements\n",
    "option = webdriver.ChromeOptions()\n",
    "option.binary_location = brave_path\n",
    "option.add_experimental_option(\"debuggerAddress\", \"127.0.0.1:2021\")         # Connect using the same custom port to access the specific browser\n",
    "# option.add_argument(\"--headless\") #OPTIONAL\n",
    "# option.add_argument(\"--incognito\") #OPTIONAL"
   ]
  },
  {
   "cell_type": "code",
   "execution_count": 3,
   "id": "romantic-savannah",
   "metadata": {
    "scrolled": true
   },
   "outputs": [],
   "source": [
    "#Open a brave browser\n",
    "\n",
    "browser = webdriver.Chrome(executable_path=driver_path, options=option, keep_alive=True)\n",
    "# browser = webdriver.Chrome(driver_path, options=option)\n",
    "# browser = webdriver.Chrome(executable_path=brave_path, options=option, keep_alive=True)"
   ]
  },
  {
   "cell_type": "code",
   "execution_count": 4,
   "id": "direct-heritage",
   "metadata": {},
   "outputs": [],
   "source": [
    "#Open New Tab\n",
    "browser.get(\"chrome://newtab\")"
   ]
  },
  {
   "cell_type": "code",
   "execution_count": 5,
   "id": "isolated-matthew",
   "metadata": {},
   "outputs": [
    {
     "name": "stdout",
     "output_type": "stream",
     "text": [
      "Start Rewards Button not available\n"
     ]
    }
   ],
   "source": [
    "#CLick Start Brave Rewards Button if available\n",
    "# XPATH: //*[@id=\"root\"]/div/div/section[3]/div[3]/div/div[1]/div/div[1]/div[2]/button/div\n",
    "\n",
    "try:\n",
    "    element = browser.find_element_by_xpath('//*[@id=\"root\"]/div/div/section[3]/div[3]/div/div[1]/div/div[1]/div[2]/button/div')\n",
    "    browser.execute_script('''document.getElementsByClassName(\"StyledButton-sc-dpixd1 PrimaryButton-sc-1q1i1vt htUlEF erSHic TurnOnAdsButton-sc-ffhgdb hldotA\")[0].click()''')\n",
    "except:\n",
    "    print('Start Rewards Button not available')"
   ]
  },
  {
   "cell_type": "markdown",
   "id": "actual-upgrade",
   "metadata": {},
   "source": [
    "###### Method to Click Rewards or Refresh Page\n",
    "\n",
    "Based on the availability of the Reward Element, click or refresh the page"
   ]
  },
  {
   "cell_type": "code",
   "execution_count": 6,
   "id": "acceptable-climb",
   "metadata": {},
   "outputs": [],
   "source": [
    "#Method to click reward\n",
    "def clickRewards():\n",
    "    \n",
    "    try:\n",
    "#         Check for the XPATH of the rewards element\n",
    "        element = browser.find_element_by_xpath(\"//*[@id='root']/div/div/footer/div/section[1]/div/div/a\")\n",
    "#         browser.execute_script('''document.getElementsByClassName(\"Anchor-sc-g85p1z gqphhp\")[0].click()''')\n",
    "        time.sleep(3)\n",
    "        element.click()        # Click the element\n",
    "        print(\"Element Found\", datetime.now())\n",
    "        time.sleep(6)\n",
    "        browser.execute_script('''window.history.go(-1);''')        # Go Back\n",
    "        browser.execute_script(\"window.open('chrome://newtab');\")        # Open a new Tab to stop caching\n",
    "        time.sleep(3)\n",
    "        window_name = browser.window_handles[1]        # Get name of new window\n",
    "        browser.close()        # Close previous tab\n",
    "        time.sleep(3)\n",
    "        browser.switch_to.window(window_name=window_name)        # Switch to new Tab\n",
    "        browser.execute_script('''window.location.reload();''')        # Reload the new Tab\n",
    "#         browser.execute_script('''window.history.go(-1);''')\n",
    "    except:\n",
    "        browser.execute_script('''window.location.reload();''')\n",
    "        time.sleep(3)\n",
    "    \n",
    "\n",
    "# browser.execute_script('''window.open('chrome://newtab');''')\n",
    "# browser.execute_script('''window.open('', 'newwindow','location=1,status=1,scrollbars=1, resizable=1, directories=1, toolbar=1, titlebar=1');''')\n",
    "# browser.execute_script('''window.open('');''')\n",
    "# browser.switch_to.window(driver.window_handles[1])"
   ]
  },
  {
   "cell_type": "code",
   "execution_count": 7,
   "id": "velvet-ecuador",
   "metadata": {},
   "outputs": [],
   "source": [
    "# element = browser.find_element_by_xpath('//*[@id=\"root\"]/div/div/section[3]/div[3]/div/div[1]/div/div[1]/div[2]/div[1]/div[1]/span[1]')"
   ]
  },
  {
   "cell_type": "code",
   "execution_count": null,
   "id": "departmental-force",
   "metadata": {
    "scrolled": true
   },
   "outputs": [
    {
     "name": "stdout",
     "output_type": "stream",
     "text": [
      "Process Start: 2021-05-16 20:52:10.161883\n",
      "Total accumulated BAT : 0.110\n",
      "Element Found 2021-05-16 20:52:18.854853\n",
      "Element Found 2021-05-16 20:52:42.812885\n",
      "Process Start: 2021-05-16 21:00:59.823925\n",
      "Total accumulated BAT : 0.110\n",
      "Element Found 2021-05-16 21:01:06.330260\n",
      "Element Found 2021-05-16 21:01:30.560289\n"
     ]
    }
   ],
   "source": [
    "# Run the process in an infinite loop to keep clicking on ads\n",
    "while True:\n",
    "    print(\"Process Start:\", datetime.now())        # Log process start time\n",
    "    element = browser.find_element_by_xpath('//*[@id=\"root\"]/div/div/section[3]/div[3]/div/div[1]/div/div[1]/div[2]/div[1]/div[1]/span[1]')\n",
    "    print(\"Total accumulated BAT :\", element.text)\n",
    "    for x in range(6):        # For every 4-6 refresh the rewards page will appear\n",
    "        clickRewards()\n",
    "    time.sleep(480)        # Run the method every 8 minutes"
   ]
  },
  {
   "cell_type": "code",
   "execution_count": null,
   "id": "worldwide-offset",
   "metadata": {
    "scrolled": true
   },
   "outputs": [],
   "source": [
    "browser.quit()"
   ]
  },
  {
   "cell_type": "code",
   "execution_count": 16,
   "id": "designed-flight",
   "metadata": {},
   "outputs": [],
   "source": []
  },
  {
   "cell_type": "markdown",
   "id": "happy-chance",
   "metadata": {},
   "source": [
    "###### Desired Capabilities\n",
    "\n",
    "It gives the desired properties of the running browser instance"
   ]
  },
  {
   "cell_type": "code",
   "execution_count": 4,
   "id": "former-firmware",
   "metadata": {},
   "outputs": [
    {
     "name": "stdout",
     "output_type": "stream",
     "text": [
      "{'acceptInsecureCerts': False, 'browserName': 'chrome', 'browserVersion': '90.0.4430.212', 'chrome': {'chromedriverVersion': '90.0.4430.24 (4c6d850f087da467d926e8eddb76550aed655991-refs/branch-heads/4430@{#429})', 'userDataDir': 'C:\\\\Users\\\\Akshay\\\\AppData\\\\Local\\\\Temp\\\\scoped_dir27936_402780537'}, 'goog:chromeOptions': {'debuggerAddress': 'localhost:60806'}, 'networkConnectionEnabled': False, 'pageLoadStrategy': 'normal', 'platformName': 'windows', 'proxy': {}, 'setWindowRect': True, 'strictFileInteractability': False, 'timeouts': {'implicit': 0, 'pageLoad': 300000, 'script': 30000}, 'unhandledPromptBehavior': 'dismiss and notify', 'webauthn:extension:largeBlob': True, 'webauthn:virtualAuthenticators': True}\n"
     ]
    }
   ],
   "source": [
    "# handles = browser.desired_capabilities\n",
    "# print(handles)"
   ]
  },
  {
   "cell_type": "code",
   "execution_count": null,
   "id": "medical-monkey",
   "metadata": {},
   "outputs": [],
   "source": [
    "# # Connect to existing session\n",
    "# executor_url = browser.command_executor._url\n",
    "# session_id = browser.session_id\n",
    "\n",
    "# print(session_id)\n",
    "# print(executor_url)\n",
    "\n",
    "# browser = webdriver.Remote(command_executor=executor_url,desired_capabilities={})\n",
    "# browser.close()   # this prevents the dummy browser\n",
    "# browser.session_id = session_id"
   ]
  }
 ],
 "metadata": {
  "kernelspec": {
   "display_name": "Python 3",
   "language": "python",
   "name": "python3"
  },
  "language_info": {
   "codemirror_mode": {
    "name": "ipython",
    "version": 3
   },
   "file_extension": ".py",
   "mimetype": "text/x-python",
   "name": "python",
   "nbconvert_exporter": "python",
   "pygments_lexer": "ipython3",
   "version": "3.6.12"
  }
 },
 "nbformat": 4,
 "nbformat_minor": 5
}
